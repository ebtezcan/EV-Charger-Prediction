{
 "cells": [
  {
   "cell_type": "markdown",
   "metadata": {},
   "source": [
    "# TITLE OF PROJECT"
   ]
  },
  {
   "cell_type": "markdown",
   "metadata": {},
   "source": [
    "Please fill out:\n",
    "* Student name: \n",
    "* Student pace: self paced / part time / full time:\n",
    "* Scheduled project review date/time: \n",
    "* Instructor name: \n",
    "* Blog post URL:\n",
    "* Video of 5-min Non-Technical Presentation:"
   ]
  },
  {
   "cell_type": "markdown",
   "metadata": {},
   "source": [
    "## TABLE OF CONTENTS "
   ]
  },
  {
   "cell_type": "markdown",
   "metadata": {},
   "source": [
    "*Click to jump to matching Markdown Header.*<br><br>\n",
    " \n",
    "- **[Introduction](#INTRODUCTION)<br>**\n",
    "- **[OBTAIN](#OBTAIN)**<br>\n",
    "- **[SCRUB](#SCRUB)**<br>\n",
    "- **[EXPLORE](#EXPLORE)**<br>\n",
    "- **[MODEL](#MODEL)**<br>\n",
    "- **[iNTERPRET](#iNTERPRET)**<br>\n",
    "- **[Conclusions/Recommendations](#CONCLUSIONS-&-RECOMMENDATIONS)<br>**\n",
    "___"
   ]
  },
  {
   "cell_type": "markdown",
   "metadata": {},
   "source": [
    "# INTRODUCTION"
   ]
  },
  {
   "cell_type": "markdown",
   "metadata": {},
   "source": [
    "> Explain the point of your project and what question you are trying to answer with your modeling.\n",
    "\n",
    "## Business Problem\n",
    "\n",
    "Summary of the business problem you are trying to solve, and the data questions that you plan to answer to solve them.\n",
    "\n",
    "***\n",
    "Questions to consider:\n",
    "* What are the business's pain points related to this project?\n",
    "* How did you pick the data analysis question(s) that you did?\n",
    "* Why are these questions important from a business perspective?\n",
    "***\n",
    "\n"
   ]
  },
  {
   "cell_type": "markdown",
   "metadata": {},
   "source": [
    "# OBTAIN"
   ]
  },
  {
   "cell_type": "markdown",
   "metadata": {},
   "source": [
    "## Data Understanding\n",
    "\n",
    "Describe the data being used for this project.\n",
    "***\n",
    "Questions to consider:\n",
    "* Where did the data come from, and how do they relate to the data analysis questions?\n",
    "* What do the data represent? Who is in the sample and what variables are included?\n",
    "* What is the target variable?\n",
    "* What are the properties of the variables you intend to use?\n",
    "***\n"
   ]
  },
  {
   "cell_type": "code",
   "execution_count": 1,
   "metadata": {
    "ExecuteTime": {
     "end_time": "2021-06-29T15:58:52.658945Z",
     "start_time": "2021-06-29T15:58:52.639950Z"
    }
   },
   "outputs": [],
   "source": [
    "# import pandas as pd\n",
    "# from sodapy import Socrata\n",
    "\n",
    "# # Unauthenticated client only works with public data sets. Note 'None'\n",
    "# # in place of application token, and no username or password:\n",
    "# # client = Socrata(\"data.wa.gov\", None)\n",
    "\n",
    "# # Example authenticated client (needed for non-public datasets):\n",
    "# client = Socrata('data.wa.gov',\n",
    "#                  'C7QFByRWjTCvFfagF5Lt1QE50',\n",
    "#                  username='427yub1zw87tmeol5eia062z',\n",
    "#                  password='23yxf9ytpdtln3u8l4lxfv9u3y7gjidxh8kkw383xv7gbd4ogq')\n",
    "\n",
    "# # First 2000 results, returned as JSON from API / converted to Python list of\n",
    "# # dictionaries by sodapy.\n",
    "# results = client.get(\"rpr4-cgyd\", limit=2000)\n",
    "\n",
    "# # Convert to pandas DataFrame\n",
    "# results_df = pd.DataFrame.from_records(results)"
   ]
  },
  {
   "cell_type": "code",
   "execution_count": 2,
   "metadata": {
    "ExecuteTime": {
     "end_time": "2021-06-29T15:58:52.673945Z",
     "start_time": "2021-06-29T15:58:52.660937Z"
    }
   },
   "outputs": [],
   "source": [
    "run_api_calls = False"
   ]
  },
  {
   "cell_type": "code",
   "execution_count": 3,
   "metadata": {
    "ExecuteTime": {
     "end_time": "2021-06-29T15:58:52.689922Z",
     "start_time": "2021-06-29T15:58:52.675929Z"
    }
   },
   "outputs": [],
   "source": [
    "#defining a function to open/load json files\n",
    "import json\n",
    "\n",
    "def get_keys(path):\n",
    "    with open(path) as f:\n",
    "        return json.load(f)"
   ]
  },
  {
   "cell_type": "code",
   "execution_count": 4,
   "metadata": {
    "ExecuteTime": {
     "end_time": "2021-06-29T15:58:52.704913Z",
     "start_time": "2021-06-29T15:58:52.693919Z"
    }
   },
   "outputs": [],
   "source": [
    "#storing api keys in variables\n",
    "keys = get_keys(\"/Users/berke/.secret/socrata_api_project_5.json\")\n",
    "\n",
    "api_key_socrata = keys['api_key']\n",
    "app_token_socrata = keys['app_token']\n",
    "api_key_secret_socrata = keys['api_key_secret']"
   ]
  },
  {
   "cell_type": "code",
   "execution_count": 5,
   "metadata": {
    "ExecuteTime": {
     "end_time": "2021-06-29T15:58:53.308511Z",
     "start_time": "2021-06-29T15:58:52.707912Z"
    }
   },
   "outputs": [],
   "source": [
    "import requests\n",
    "import time\n",
    "import pandas as pd\n",
    "\n",
    "if run_api_calls == True:\n",
    "    #Defining/initializing API request headers and parameters\n",
    "    headers = {'X-App-Token': app_token_socrata, 'username': api_key_socrata,\n",
    "               'password': api_key_secret_socrata}\n",
    "    params = {'$limit': '50000', '$offset': None}\n",
    "    offset = list(range(0, 500000, 50000))\n",
    "\n",
    "    #Requesting data from API and parsing results to a dictionary\n",
    "    dfs = {}\n",
    "    for number in offset:\n",
    "        params['$offset'] = str(number)\n",
    "        r = requests.get(f'https://data.wa.gov/resource/rpr4-cgyd.json?', \n",
    "                         headers=headers, params=params)\n",
    "        dfs[f'df_{number}']=pd.DataFrame.from_records(r.json())\n",
    "        time.sleep(1)"
   ]
  },
  {
   "cell_type": "code",
   "execution_count": 6,
   "metadata": {
    "ExecuteTime": {
     "end_time": "2021-06-29T15:58:53.324514Z",
     "start_time": "2021-06-29T15:58:53.310470Z"
    }
   },
   "outputs": [],
   "source": [
    "if run_api_calls == True:\n",
    "    #saving all pages as one csv file\n",
    "    import os\n",
    "    path = './data'\n",
    "    output_file = os.path.join(path,'title_transactions.csv.gz')\n",
    "\n",
    "    for key, df in dfs.items():\n",
    "        if key == 'df_0':\n",
    "            df_final = dfs['df_0']\n",
    "        else:\n",
    "            df_final = pd.concat([df_final, df], axis=0)\n",
    "\n",
    "    df_final.to_csv(output_file, index=False, compression='gzip')    "
   ]
  },
  {
   "cell_type": "code",
   "execution_count": 15,
   "metadata": {
    "ExecuteTime": {
     "end_time": "2021-06-29T18:23:52.976727Z",
     "start_time": "2021-06-29T18:23:49.988844Z"
    }
   },
   "outputs": [
    {
     "name": "stdout",
     "output_type": "stream",
     "text": [
      "<class 'pandas.core.frame.DataFrame'>\n",
      "RangeIndex: 433172 entries, 0 to 433171\n",
      "Data columns (total 30 columns):\n",
      " #   Column                                                   Non-Null Count   Dtype  \n",
      "---  ------                                                   --------------   -----  \n",
      " 0   electric_vehicle_type                                    433172 non-null  object \n",
      " 1   vin_1_10                                                 433172 non-null  object \n",
      " 2   model_year                                               433172 non-null  int64  \n",
      " 3   make                                                     433172 non-null  object \n",
      " 4   model                                                    433172 non-null  object \n",
      " 5   new_or_used_vehicle                                      433172 non-null  object \n",
      " 6   sale_price                                               433172 non-null  float64\n",
      " 7   transaction_date                                         433172 non-null  object \n",
      " 8   transaction_type                                         433172 non-null  object \n",
      " 9   transaction_year                                         433172 non-null  int64  \n",
      " 10  electric_vehicle_fee_paid                                433172 non-null  object \n",
      " 11  county                                                   433154 non-null  object \n",
      " 12  city                                                     433084 non-null  object \n",
      " 13  zip                                                      433158 non-null  float64\n",
      " 14  electric_range                                           433172 non-null  int64  \n",
      " 15  base_msrp                                                433172 non-null  int64  \n",
      " 16  non_clean_alternative_fuel                               433172 non-null  object \n",
      " 17  date_of_vehicle_sale                                     143402 non-null  object \n",
      " 18  vehicle_primary_use                                      433172 non-null  object \n",
      " 19  state_of_residence                                       433168 non-null  object \n",
      " 20  dol_vehicle_id                                           433172 non-null  int64  \n",
      " 21  legislative_district                                     432652 non-null  float64\n",
      " 22  hb_2042_clean_alternative_fuel_vehicle_cafv_eligibility  433166 non-null  object \n",
      " 23  meets_2019_hb_2042_electric_range_requirement            433172 non-null  bool   \n",
      " 24  meets_2019_hb_2042_sale_date_requirement                 433172 non-null  bool   \n",
      " 25  meets_2019_hb_2042_sale_price_value_requirement          433172 non-null  bool   \n",
      " 26  odometer_reading                                         433172 non-null  int64  \n",
      " 27  odometer_code                                            433172 non-null  object \n",
      " 28  transportation_electrification_fee_paid                  340599 non-null  object \n",
      " 29  hybrid_vehicle_electrification_fee_paid                  340599 non-null  object \n",
      "dtypes: bool(3), float64(3), int64(6), object(18)\n",
      "memory usage: 90.5+ MB\n"
     ]
    }
   ],
   "source": [
    "#importing the data back into the notebook\n",
    "df=pd.read_csv('data/title_transactions.csv')\n",
    "df.info()"
   ]
  },
  {
   "cell_type": "code",
   "execution_count": 16,
   "metadata": {
    "ExecuteTime": {
     "end_time": "2021-06-29T18:24:27.563030Z",
     "start_time": "2021-06-29T18:24:14.034738Z"
    }
   },
   "outputs": [],
   "source": [
    "df.to_csv('./data/title_transactions.csv.gz', compression='gzip')"
   ]
  },
  {
   "cell_type": "code",
   "execution_count": 12,
   "metadata": {
    "ExecuteTime": {
     "end_time": "2021-06-29T17:50:08.841950Z",
     "start_time": "2021-06-29T17:50:08.802981Z"
    }
   },
   "outputs": [
    {
     "data": {
      "text/html": [
       "<div>\n",
       "<style scoped>\n",
       "    .dataframe tbody tr th:only-of-type {\n",
       "        vertical-align: middle;\n",
       "    }\n",
       "\n",
       "    .dataframe tbody tr th {\n",
       "        vertical-align: top;\n",
       "    }\n",
       "\n",
       "    .dataframe thead th {\n",
       "        text-align: right;\n",
       "    }\n",
       "</style>\n",
       "<table border=\"1\" class=\"dataframe\">\n",
       "  <thead>\n",
       "    <tr style=\"text-align: right;\">\n",
       "      <th></th>\n",
       "      <th>electric_vehicle_type</th>\n",
       "      <th>vin_1_10</th>\n",
       "      <th>model_year</th>\n",
       "      <th>make</th>\n",
       "      <th>model</th>\n",
       "      <th>new_or_used_vehicle</th>\n",
       "      <th>sale_price</th>\n",
       "      <th>transaction_date</th>\n",
       "      <th>transaction_type</th>\n",
       "      <th>transaction_year</th>\n",
       "      <th>electric_vehicle_fee_paid</th>\n",
       "      <th>county</th>\n",
       "      <th>city</th>\n",
       "      <th>zip</th>\n",
       "      <th>electric_range</th>\n",
       "      <th>base_msrp</th>\n",
       "      <th>non_clean_alternative_fuel</th>\n",
       "      <th>date_of_vehicle_sale</th>\n",
       "      <th>vehicle_primary_use</th>\n",
       "      <th>state_of_residence</th>\n",
       "      <th>dol_vehicle_id</th>\n",
       "      <th>legislative_district</th>\n",
       "      <th>hb_2042_clean_alternative_fuel_vehicle_cafv_eligibility</th>\n",
       "      <th>meets_2019_hb_2042_electric_range_requirement</th>\n",
       "      <th>meets_2019_hb_2042_sale_date_requirement</th>\n",
       "      <th>meets_2019_hb_2042_sale_price_value_requirement</th>\n",
       "      <th>odometer_reading</th>\n",
       "      <th>odometer_code</th>\n",
       "      <th>transportation_electrification_fee_paid</th>\n",
       "      <th>hybrid_vehicle_electrification_fee_paid</th>\n",
       "    </tr>\n",
       "  </thead>\n",
       "  <tbody>\n",
       "    <tr>\n",
       "      <th>0</th>\n",
       "      <td>Battery Electric Vehicle (BEV)</td>\n",
       "      <td>5YJXCBE2XG</td>\n",
       "      <td>2016</td>\n",
       "      <td>TESLA</td>\n",
       "      <td>Model X</td>\n",
       "      <td>New</td>\n",
       "      <td>102000.0</td>\n",
       "      <td>2017-01-31T00:00:00.000</td>\n",
       "      <td>Original Title</td>\n",
       "      <td>2017</td>\n",
       "      <td>Not Applicable</td>\n",
       "      <td>King</td>\n",
       "      <td>MEDINA</td>\n",
       "      <td>98039.0</td>\n",
       "      <td>200</td>\n",
       "      <td>0</td>\n",
       "      <td>CANNOT DETERMINE ELIGIBILITY: Base MSRP has no...</td>\n",
       "      <td>2016-12-27T00:00:00.000</td>\n",
       "      <td>Passenger</td>\n",
       "      <td>WA</td>\n",
       "      <td>348693390</td>\n",
       "      <td>48.0</td>\n",
       "      <td>TRANSACTION NOT ELIGIBLE: Sale before August 2...</td>\n",
       "      <td>True</td>\n",
       "      <td>False</td>\n",
       "      <td>False</td>\n",
       "      <td>50</td>\n",
       "      <td>Actual Mileage</td>\n",
       "      <td>Not Applicable</td>\n",
       "      <td>Not Applicable</td>\n",
       "    </tr>\n",
       "    <tr>\n",
       "      <th>1</th>\n",
       "      <td>Battery Electric Vehicle (BEV)</td>\n",
       "      <td>5YJXCBE49H</td>\n",
       "      <td>2017</td>\n",
       "      <td>TESLA</td>\n",
       "      <td>Model X</td>\n",
       "      <td>New</td>\n",
       "      <td>0.0</td>\n",
       "      <td>2017-03-22T00:00:00.000</td>\n",
       "      <td>Original Registration</td>\n",
       "      <td>2017</td>\n",
       "      <td>No</td>\n",
       "      <td>King</td>\n",
       "      <td>SNOQUALMIE</td>\n",
       "      <td>98065.0</td>\n",
       "      <td>200</td>\n",
       "      <td>0</td>\n",
       "      <td>TRANSACTION NOT ELIGIBLE: Non-sale, registrati...</td>\n",
       "      <td>NaN</td>\n",
       "      <td>Passenger</td>\n",
       "      <td>WA</td>\n",
       "      <td>329748177</td>\n",
       "      <td>5.0</td>\n",
       "      <td>TRANSACTION NOT ELIGIBLE: Non-sale, registrati...</td>\n",
       "      <td>True</td>\n",
       "      <td>False</td>\n",
       "      <td>False</td>\n",
       "      <td>0</td>\n",
       "      <td>Odometer reading is not collected at time of r...</td>\n",
       "      <td>No</td>\n",
       "      <td>No</td>\n",
       "    </tr>\n",
       "    <tr>\n",
       "      <th>2</th>\n",
       "      <td>Battery Electric Vehicle (BEV)</td>\n",
       "      <td>5YJXCBE49H</td>\n",
       "      <td>2017</td>\n",
       "      <td>TESLA</td>\n",
       "      <td>Model X</td>\n",
       "      <td>New</td>\n",
       "      <td>166250.0</td>\n",
       "      <td>2017-03-22T00:00:00.000</td>\n",
       "      <td>Original Title</td>\n",
       "      <td>2017</td>\n",
       "      <td>Not Applicable</td>\n",
       "      <td>King</td>\n",
       "      <td>SNOQUALMIE</td>\n",
       "      <td>98065.0</td>\n",
       "      <td>200</td>\n",
       "      <td>0</td>\n",
       "      <td>CANNOT DETERMINE ELIGIBILITY: Base MSRP has no...</td>\n",
       "      <td>2017-03-03T00:00:00.000</td>\n",
       "      <td>Passenger</td>\n",
       "      <td>WA</td>\n",
       "      <td>329748177</td>\n",
       "      <td>5.0</td>\n",
       "      <td>TRANSACTION NOT ELIGIBLE: Sale before August 2...</td>\n",
       "      <td>True</td>\n",
       "      <td>False</td>\n",
       "      <td>False</td>\n",
       "      <td>50</td>\n",
       "      <td>Actual Mileage</td>\n",
       "      <td>Not Applicable</td>\n",
       "      <td>Not Applicable</td>\n",
       "    </tr>\n",
       "    <tr>\n",
       "      <th>3</th>\n",
       "      <td>Plug-in Hybrid Electric Vehicle (PHEV)</td>\n",
       "      <td>1G1RA6S59H</td>\n",
       "      <td>2017</td>\n",
       "      <td>CHEVROLET</td>\n",
       "      <td>Volt</td>\n",
       "      <td>New</td>\n",
       "      <td>0.0</td>\n",
       "      <td>2017-03-24T00:00:00.000</td>\n",
       "      <td>Original Registration</td>\n",
       "      <td>2017</td>\n",
       "      <td>No</td>\n",
       "      <td>Island</td>\n",
       "      <td>OAK HARBOR</td>\n",
       "      <td>98277.0</td>\n",
       "      <td>53</td>\n",
       "      <td>0</td>\n",
       "      <td>TRANSACTION NOT ELIGIBLE: Non-sale, registrati...</td>\n",
       "      <td>NaN</td>\n",
       "      <td>Passenger</td>\n",
       "      <td>WA</td>\n",
       "      <td>242531271</td>\n",
       "      <td>10.0</td>\n",
       "      <td>TRANSACTION NOT ELIGIBLE: Non-sale, registrati...</td>\n",
       "      <td>True</td>\n",
       "      <td>False</td>\n",
       "      <td>False</td>\n",
       "      <td>0</td>\n",
       "      <td>Odometer reading is not collected at time of r...</td>\n",
       "      <td>No</td>\n",
       "      <td>No</td>\n",
       "    </tr>\n",
       "    <tr>\n",
       "      <th>4</th>\n",
       "      <td>Plug-in Hybrid Electric Vehicle (PHEV)</td>\n",
       "      <td>1G1RA6S59H</td>\n",
       "      <td>2017</td>\n",
       "      <td>CHEVROLET</td>\n",
       "      <td>Volt</td>\n",
       "      <td>New</td>\n",
       "      <td>32499.0</td>\n",
       "      <td>2017-03-24T00:00:00.000</td>\n",
       "      <td>Original Title</td>\n",
       "      <td>2017</td>\n",
       "      <td>Not Applicable</td>\n",
       "      <td>Island</td>\n",
       "      <td>OAK HARBOR</td>\n",
       "      <td>98277.0</td>\n",
       "      <td>53</td>\n",
       "      <td>0</td>\n",
       "      <td>CANNOT DETERMINE ELIGIBILITY: Base MSRP has no...</td>\n",
       "      <td>2017-03-11T00:00:00.000</td>\n",
       "      <td>Passenger</td>\n",
       "      <td>WA</td>\n",
       "      <td>242531271</td>\n",
       "      <td>10.0</td>\n",
       "      <td>TRANSACTION NOT ELIGIBLE: Sale before August 2019</td>\n",
       "      <td>True</td>\n",
       "      <td>False</td>\n",
       "      <td>True</td>\n",
       "      <td>99</td>\n",
       "      <td>Actual Mileage</td>\n",
       "      <td>Not Applicable</td>\n",
       "      <td>Not Applicable</td>\n",
       "    </tr>\n",
       "  </tbody>\n",
       "</table>\n",
       "</div>"
      ],
      "text/plain": [
       "                    electric_vehicle_type    vin_1_10  model_year       make  \\\n",
       "0          Battery Electric Vehicle (BEV)  5YJXCBE2XG        2016      TESLA   \n",
       "1          Battery Electric Vehicle (BEV)  5YJXCBE49H        2017      TESLA   \n",
       "2          Battery Electric Vehicle (BEV)  5YJXCBE49H        2017      TESLA   \n",
       "3  Plug-in Hybrid Electric Vehicle (PHEV)  1G1RA6S59H        2017  CHEVROLET   \n",
       "4  Plug-in Hybrid Electric Vehicle (PHEV)  1G1RA6S59H        2017  CHEVROLET   \n",
       "\n",
       "     model new_or_used_vehicle  sale_price         transaction_date  \\\n",
       "0  Model X                 New    102000.0  2017-01-31T00:00:00.000   \n",
       "1  Model X                 New         0.0  2017-03-22T00:00:00.000   \n",
       "2  Model X                 New    166250.0  2017-03-22T00:00:00.000   \n",
       "3     Volt                 New         0.0  2017-03-24T00:00:00.000   \n",
       "4     Volt                 New     32499.0  2017-03-24T00:00:00.000   \n",
       "\n",
       "        transaction_type  transaction_year electric_vehicle_fee_paid  county  \\\n",
       "0         Original Title              2017            Not Applicable    King   \n",
       "1  Original Registration              2017                        No    King   \n",
       "2         Original Title              2017            Not Applicable    King   \n",
       "3  Original Registration              2017                        No  Island   \n",
       "4         Original Title              2017            Not Applicable  Island   \n",
       "\n",
       "         city      zip  electric_range  base_msrp  \\\n",
       "0      MEDINA  98039.0             200          0   \n",
       "1  SNOQUALMIE  98065.0             200          0   \n",
       "2  SNOQUALMIE  98065.0             200          0   \n",
       "3  OAK HARBOR  98277.0              53          0   \n",
       "4  OAK HARBOR  98277.0              53          0   \n",
       "\n",
       "                          non_clean_alternative_fuel     date_of_vehicle_sale  \\\n",
       "0  CANNOT DETERMINE ELIGIBILITY: Base MSRP has no...  2016-12-27T00:00:00.000   \n",
       "1  TRANSACTION NOT ELIGIBLE: Non-sale, registrati...                      NaN   \n",
       "2  CANNOT DETERMINE ELIGIBILITY: Base MSRP has no...  2017-03-03T00:00:00.000   \n",
       "3  TRANSACTION NOT ELIGIBLE: Non-sale, registrati...                      NaN   \n",
       "4  CANNOT DETERMINE ELIGIBILITY: Base MSRP has no...  2017-03-11T00:00:00.000   \n",
       "\n",
       "  vehicle_primary_use state_of_residence  dol_vehicle_id  \\\n",
       "0           Passenger                 WA       348693390   \n",
       "1           Passenger                 WA       329748177   \n",
       "2           Passenger                 WA       329748177   \n",
       "3           Passenger                 WA       242531271   \n",
       "4           Passenger                 WA       242531271   \n",
       "\n",
       "   legislative_district  \\\n",
       "0                  48.0   \n",
       "1                   5.0   \n",
       "2                   5.0   \n",
       "3                  10.0   \n",
       "4                  10.0   \n",
       "\n",
       "  hb_2042_clean_alternative_fuel_vehicle_cafv_eligibility  \\\n",
       "0  TRANSACTION NOT ELIGIBLE: Sale before August 2...        \n",
       "1  TRANSACTION NOT ELIGIBLE: Non-sale, registrati...        \n",
       "2  TRANSACTION NOT ELIGIBLE: Sale before August 2...        \n",
       "3  TRANSACTION NOT ELIGIBLE: Non-sale, registrati...        \n",
       "4  TRANSACTION NOT ELIGIBLE: Sale before August 2019        \n",
       "\n",
       "   meets_2019_hb_2042_electric_range_requirement  \\\n",
       "0                                           True   \n",
       "1                                           True   \n",
       "2                                           True   \n",
       "3                                           True   \n",
       "4                                           True   \n",
       "\n",
       "   meets_2019_hb_2042_sale_date_requirement  \\\n",
       "0                                     False   \n",
       "1                                     False   \n",
       "2                                     False   \n",
       "3                                     False   \n",
       "4                                     False   \n",
       "\n",
       "   meets_2019_hb_2042_sale_price_value_requirement  odometer_reading  \\\n",
       "0                                            False                50   \n",
       "1                                            False                 0   \n",
       "2                                            False                50   \n",
       "3                                            False                 0   \n",
       "4                                             True                99   \n",
       "\n",
       "                                       odometer_code  \\\n",
       "0                                     Actual Mileage   \n",
       "1  Odometer reading is not collected at time of r...   \n",
       "2                                     Actual Mileage   \n",
       "3  Odometer reading is not collected at time of r...   \n",
       "4                                     Actual Mileage   \n",
       "\n",
       "  transportation_electrification_fee_paid  \\\n",
       "0                          Not Applicable   \n",
       "1                                      No   \n",
       "2                          Not Applicable   \n",
       "3                                      No   \n",
       "4                          Not Applicable   \n",
       "\n",
       "  hybrid_vehicle_electrification_fee_paid  \n",
       "0                          Not Applicable  \n",
       "1                                      No  \n",
       "2                          Not Applicable  \n",
       "3                                      No  \n",
       "4                          Not Applicable  "
      ]
     },
     "execution_count": 12,
     "metadata": {},
     "output_type": "execute_result"
    }
   ],
   "source": [
    "pd.set_option('max_columns', None)\n",
    "df.head()"
   ]
  },
  {
   "cell_type": "code",
   "execution_count": null,
   "metadata": {},
   "outputs": [],
   "source": []
  },
  {
   "cell_type": "markdown",
   "metadata": {
    "heading_collapsed": true
   },
   "source": [
    "# SCRUB"
   ]
  },
  {
   "cell_type": "markdown",
   "metadata": {
    "hidden": true
   },
   "source": [
    "## Data Preparation\n",
    "\n",
    "Describe and justify the process for preparing the data for analysis.\n",
    "\n",
    "***\n",
    "Questions to consider:\n",
    "* Were there variables you dropped or created?\n",
    "* How did you address missing values or outliers?\n",
    "* Why are these choices appropriate given the data and the business problem?\n",
    "***"
   ]
  },
  {
   "cell_type": "code",
   "execution_count": null,
   "metadata": {
    "hidden": true
   },
   "outputs": [],
   "source": []
  },
  {
   "cell_type": "markdown",
   "metadata": {},
   "source": [
    "# EXPLORE"
   ]
  },
  {
   "cell_type": "code",
   "execution_count": null,
   "metadata": {},
   "outputs": [],
   "source": []
  },
  {
   "cell_type": "markdown",
   "metadata": {},
   "source": [
    "# MODEL"
   ]
  },
  {
   "cell_type": "markdown",
   "metadata": {},
   "source": [
    "## Data Modeling\n",
    "Describe and justify the process for analyzing or modeling the data.\n",
    "\n",
    "***\n",
    "Questions to consider:\n",
    "* How did you analyze or model the data?\n",
    "* How did you iterate on your initial approach to make it better?\n",
    "* Why are these choices appropriate given the data and the business problem?\n",
    "***"
   ]
  },
  {
   "cell_type": "code",
   "execution_count": null,
   "metadata": {},
   "outputs": [],
   "source": []
  },
  {
   "cell_type": "markdown",
   "metadata": {},
   "source": [
    "# iNTERPRET"
   ]
  },
  {
   "cell_type": "markdown",
   "metadata": {},
   "source": [
    "Evaluate how well your work solves the stated business problem.\n",
    "\n",
    "***\n",
    "Questions to consider:\n",
    "* How do you interpret the results?\n",
    "* How well does your model fit your data? How much better is this than your baseline model?\n",
    "* How confident are you that your results would generalize beyond the data you have?\n",
    "* How confident are you that this model would benefit the business if put into use?\n",
    "***"
   ]
  },
  {
   "cell_type": "code",
   "execution_count": null,
   "metadata": {},
   "outputs": [],
   "source": []
  },
  {
   "cell_type": "markdown",
   "metadata": {},
   "source": [
    "# CONCLUSIONS & RECOMMENDATIONS"
   ]
  },
  {
   "cell_type": "markdown",
   "metadata": {},
   "source": [
    "Provide your conclusions about the work you've done, including any limitations or next steps.\n",
    "\n",
    "***\n",
    "Questions to consider:\n",
    "* What would you recommend the business do as a result of this work?\n",
    "* What are some reasons why your analysis might not fully solve the business problem?\n",
    "* What else could you do in the future to improve this project?\n",
    "***"
   ]
  },
  {
   "cell_type": "code",
   "execution_count": null,
   "metadata": {},
   "outputs": [],
   "source": []
  }
 ],
 "metadata": {
  "kernelspec": {
   "display_name": "learn-env",
   "language": "python",
   "name": "learn-env"
  },
  "language_info": {
   "codemirror_mode": {
    "name": "ipython",
    "version": 3
   },
   "file_extension": ".py",
   "mimetype": "text/x-python",
   "name": "python",
   "nbconvert_exporter": "python",
   "pygments_lexer": "ipython3",
   "version": "3.8.5"
  },
  "toc": {
   "base_numbering": 1,
   "nav_menu": {},
   "number_sections": false,
   "sideBar": true,
   "skip_h1_title": false,
   "title_cell": "Table of Contents",
   "title_sidebar": "Contents",
   "toc_cell": false,
   "toc_position": {},
   "toc_section_display": true,
   "toc_window_display": true
  },
  "varInspector": {
   "cols": {
    "lenName": 16,
    "lenType": 16,
    "lenVar": 40
   },
   "kernels_config": {
    "python": {
     "delete_cmd_postfix": "",
     "delete_cmd_prefix": "del ",
     "library": "var_list.py",
     "varRefreshCmd": "print(var_dic_list())"
    },
    "r": {
     "delete_cmd_postfix": ") ",
     "delete_cmd_prefix": "rm(",
     "library": "var_list.r",
     "varRefreshCmd": "cat(var_dic_list()) "
    }
   },
   "types_to_exclude": [
    "module",
    "function",
    "builtin_function_or_method",
    "instance",
    "_Feature"
   ],
   "window_display": false
  }
 },
 "nbformat": 4,
 "nbformat_minor": 2
}
